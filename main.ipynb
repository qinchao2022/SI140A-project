{
 "cells": [
  {
   "cell_type": "code",
   "execution_count": 3,
   "metadata": {},
   "outputs": [],
   "source": [
    "from read_csv import read_csv05\n",
    "from read_csv import read_csv10\n",
    "from read_csv import read_csv20\n",
    "import numpy as np"
   ]
  },
  {
   "cell_type": "code",
   "execution_count": 4,
   "metadata": {},
   "outputs": [
    {
     "name": "stdout",
     "output_type": "stream",
     "text": [
      "(5, 100)\n",
      "(10, 10)\n",
      "(20, 5)\n",
      "[4.1387 4.1456 3.7849 3.9306 4.0002]\n",
      "[0.265 0.277 0.256 0.246 0.213 0.225 0.213 0.27  0.244 0.291]\n",
      "[0.198 0.352 0.174 0.314 0.186 0.154 0.228 0.338 0.268 0.336 0.314 0.256\n",
      " 0.176 0.244 0.226 0.174 0.266 0.332 0.236 0.228]\n"
     ]
    }
   ],
   "source": [
    "data05 = read_csv05('database/data05.csv')\n",
    "data10 = read_csv10('database/data10.csv')\n",
    "data20 = read_csv20('database/data20.csv')\n",
    "print(data05.shape)\n",
    "print(data10.shape)\n",
    "print(data20.shape)\n",
    "\n",
    "mean05 = np.mean(data05, axis=1)\n",
    "mean10 = np.mean(data10, axis=1)\n",
    "mean20 = np.mean(data20, axis=1)\n",
    "print(mean05)\n",
    "print(mean10)\n",
    "print(mean20)"
   ]
  }
 ],
 "metadata": {
  "kernelspec": {
   "display_name": "base",
   "language": "python",
   "name": "python3"
  },
  "language_info": {
   "codemirror_mode": {
    "name": "ipython",
    "version": 3
   },
   "file_extension": ".py",
   "mimetype": "text/x-python",
   "name": "python",
   "nbconvert_exporter": "python",
   "pygments_lexer": "ipython3",
   "version": "3.11.5"
  }
 },
 "nbformat": 4,
 "nbformat_minor": 2
}
